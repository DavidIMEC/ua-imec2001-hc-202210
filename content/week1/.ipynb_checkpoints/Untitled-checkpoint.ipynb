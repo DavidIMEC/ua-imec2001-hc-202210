{
 "cells": [
  {
   "cell_type": "markdown",
   "metadata": {},
   "source": [
    "# Introducción\n",
    "\n",
    "\n",
    "Instalar kernel de Julia en Jupyter Notebook: https://www.youtube.com/watch?v=oyx8M1yoboY\n",
    "\n",
    "\n",
    "## Partes\n",
    "###\n",
    "\n",
    "### Instalación\n",
    "1. Instalación Julia\n",
    "2. Instalación Jupyter Notebook\n",
    "3. Integración Julia - Jupyter (https://www.youtube.com/watch?v=PpEdwVLypXU)\n",
    "4. Instalación VS Code y set-up de Julia\n",
    "\n",
    "\n",
    "\n",
    "### Julia\n",
    "5. Qué es Julia y por qué lo usaremos\n"
   ]
  }
 ],
 "metadata": {
  "kernelspec": {
   "display_name": "Julia 1.7.2",
   "language": "julia",
   "name": "julia-1.7"
  },
  "language_info": {
   "file_extension": ".jl",
   "mimetype": "application/julia",
   "name": "julia",
   "version": "1.7.2"
  }
 },
 "nbformat": 4,
 "nbformat_minor": 2
}

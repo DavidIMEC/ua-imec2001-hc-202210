{
 "cells": [
  {
   "cell_type": "markdown",
   "metadata": {},
   "source": [
    "# IMEC2201 Herramientas Computacionales \n",
    "## Semana 1: Introducción\n",
    "### Clase 1: Configuración Espacio de Trabajo\n",
    "\n",
    "Universidad de los Andes — Marzo 28, 2022.\n",
    "\n",
    "---\n",
    "\n",
    "## TABLA DE CONTENIDO\n",
    "\n",
    "### Sección 1: Empecemos con Julia [→](#section1)\n",
    "- 1.1. Imprimir en Pantalla\n",
    "- 1.2. Asignación de Variables\n",
    "- 1.3. Matemática Básica\n",
    "- 1.4. String\n",
    "- 1.5. Contenedores\n",
    "    - 1.5.1. Tuples\n",
    "    - 1.5.2. Dictionaries\n",
    "    - 1.5.3. Arrays\n",
    "- 1.6. Iteradores\n",
    "    - 1.6.1. While loop\n",
    "    - 1.6.2. For loop\n",
    "- 1.7. Condicionales\n",
    "- 1.8. Funciones\n",
    "\n",
    "### Sección 2: Extender las Bases [→](#section2)\n",
    "- 2.1. Librerías\n",
    "- 2.2. Gráficas\n",
    "___"
   ]
  },
  {
   "cell_type": "markdown",
   "metadata": {},
   "source": [
    "<a id=\"section1\"></a>\n",
    "# Sección 1: Empecemos con Julia"
   ]
  },
  {
   "cell_type": "markdown",
   "metadata": {},
   "source": [
    "## 1.1. Imprimir en Pantalla\n",
    "Podemos utilizar las funciones `print()` y `println()`."
   ]
  },
  {
   "cell_type": "code",
   "execution_count": null,
   "metadata": {},
   "outputs": [],
   "source": [
    "println(\"Hello World!\")"
   ]
  },
  {
   "cell_type": "markdown",
   "metadata": {},
   "source": [
    "Pero... ¿cuál es la diferencia?"
   ]
  },
  {
   "cell_type": "code",
   "execution_count": null,
   "metadata": {},
   "outputs": [],
   "source": [
    "print(\"Texto 1\")\n",
    "print(\"Texto 2\")\n",
    "print(\"Texto 3\")"
   ]
  },
  {
   "cell_type": "code",
   "execution_count": null,
   "metadata": {},
   "outputs": [],
   "source": [
    "println(\"Texto 1\")\n",
    "println(\"Texto 2\")\n",
    "println(\"Texto 3\")"
   ]
  },
  {
   "cell_type": "markdown",
   "metadata": {},
   "source": [
    "¿Y si agregamos '\\n' al final de `print()`?"
   ]
  },
  {
   "cell_type": "code",
   "execution_count": null,
   "metadata": {},
   "outputs": [],
   "source": [
    "print(\"Texto 1\\n\")\n",
    "print(\"Texto 2\\n\")\n",
    "print(\"Texto 3\\n\")"
   ]
  },
  {
   "cell_type": "code",
   "execution_count": null,
   "metadata": {},
   "outputs": [],
   "source": [
    "#= \n",
    "Definimos la función 'greet_to_IMEC2001' que\n",
    "pregunta por un nombre y devuelve un saludo\n",
    "con la bienvenida al curso\n",
    "=#\n",
    "\n",
    "function greet_to_IMEC2001()\n",
    "    print(\"¿Cuál es tu nombre?: \")\n",
    "    name = readline()\n",
    "    println(\"\\nHola, $name. ¡Bienvenido/a al curso IMEC2001!\")\n",
    "end\n",
    "\n",
    "greet_to_IMEC2001()"
   ]
  },
  {
   "cell_type": "markdown",
   "metadata": {},
   "source": [
    "## 1.2. Asignación de Variables"
   ]
  },
  {
   "cell_type": "code",
   "execution_count": null,
   "metadata": {},
   "outputs": [],
   "source": [
    "a = 100\n",
    "println(a)\n",
    "println(typeof(a))"
   ]
  },
  {
   "cell_type": "code",
   "execution_count": null,
   "metadata": {},
   "outputs": [],
   "source": [
    "A = 5\n",
    "println(A == a)"
   ]
  },
  {
   "cell_type": "code",
   "execution_count": null,
   "metadata": {},
   "outputs": [],
   "source": [
    "#=\n",
    "Podemos asignar símbolos con formato LaTex,\n",
    "al escribir '\\' seguido del nombre del símbolo.\n",
    "Por ejemplo, \\beta\n",
    "=#\n",
    "β = 44\n",
    "println(β)\n",
    "\n",
    "# Pi ya está definido como π\n",
    "println(π)\n",
    "\n",
    "# Incluso con super y subíndices\n",
    "α₁ = \"Texto\"\n",
    "αʲ = 8.55\n",
    "println(α₁)\n",
    "println(αʲ)\n",
    "\n",
    "# ¡También con emoji!\n",
    "😱 = \"Increíble\"\n",
    "println(😱)"
   ]
  },
  {
   "cell_type": "code",
   "execution_count": null,
   "metadata": {},
   "outputs": [],
   "source": [
    "#=\n",
    "Podemos redefinir una variable\n",
    "=#\n",
    "println(typeof(β)) # Tipo inicial\n",
    "\n",
    "β = \"Nuevo valor\"\n",
    "println(typeof(β)) # Tipo nuevo\n"
   ]
  },
  {
   "cell_type": "markdown",
   "metadata": {},
   "source": [
    "## 1.3. Matemática Básica"
   ]
  },
  {
   "cell_type": "code",
   "execution_count": null,
   "metadata": {},
   "outputs": [],
   "source": [
    "var1 = 15\n",
    "var2 = 3\n",
    "\n",
    "# Suma (+)\n",
    "println(\"La suma de $var1 y $var2 es $(var1 + var2).\")\n",
    "\n",
    "# Resta (-)\n",
    "println(\"La resta de $var1 y $var2 es $(var1 - var2).\")\n",
    "\n",
    "# Producto (*)\n",
    "println(\"El producto de $var1 y $var2 es $(var1 * var2).\")\n",
    "\n",
    "# División (/)\n",
    "println(\"La división de $var1 y $var2 es $(var1 / var2).\")\n",
    "\n",
    "# Potencia (^)\n",
    "println(\"La potencia de $var1 a la $var2 es $(var1 ^ var2).\")\n",
    "\n",
    "# Módulo (%)\n",
    "println(\"El módulo de $var1 y $var2 es $(var1 % var2).\")"
   ]
  },
  {
   "cell_type": "markdown",
   "metadata": {},
   "source": [
    "## 1.4. String\n",
    "\n",
    "Importante tener en cuenta que las variables tipo String se definen entre comillas dobles, i.e., `\"\"`. Las comillas singulares `''` se utilizan para definir el tipo Char, es decir, un único caracter."
   ]
  },
  {
   "cell_type": "code",
   "execution_count": null,
   "metadata": {},
   "outputs": [],
   "source": [
    "# String\n",
    "texto1 = \"Soy un String\"\n",
    "println(typeof(texto1))\n",
    "\n",
    "# Char\n",
    "char1 = 'a'\n",
    "println(typeof(char1))"
   ]
  },
  {
   "cell_type": "markdown",
   "metadata": {},
   "source": [
    "¿Qué sucede si definimos un único caracter en comilla doble o un texto en comilla singular?"
   ]
  },
  {
   "cell_type": "code",
   "execution_count": null,
   "metadata": {},
   "outputs": [],
   "source": [
    "# Char con doble comilla\n",
    "println(\"a\") # No error\n",
    "\n",
    "# String en comilla singular\n",
    "println('texto') # Error"
   ]
  },
  {
   "cell_type": "code",
   "execution_count": null,
   "metadata": {},
   "outputs": [],
   "source": [
    "#=\n",
    "Podemos concatenar textos de diferentes maneras\n",
    "=#\n",
    "\n",
    "txt1 = \"Estamos en la segunda clase del curso\"\n",
    "txt2 = \"Herramientas Computacionales\"\n",
    "\n",
    "# Forma 1\n",
    "println(string(txt1, txt2)) # ¿Cómo agrego un espacio entre txt1 y txt2?\n",
    "\n",
    "# Forma 2\n",
    "println(string(\"IMEC2001 \", txt2))\n",
    "\n",
    "# Forma 3\n",
    "println((txt1 * txt2))"
   ]
  },
  {
   "cell_type": "code",
   "execution_count": null,
   "metadata": {},
   "outputs": [],
   "source": [
    "# Texto + ^n repite el texto n veces\n",
    "\n",
    "\"Hola \" ^10"
   ]
  },
  {
   "cell_type": "markdown",
   "metadata": {},
   "source": [
    "## 1.5. Contenedores\n",
    "\n",
    "Los contenedores permiten almacenar múltiple información en una única variable. Las principales estructuras son:\n",
    "\n",
    "- Tuples\n",
    "- Dictionaries\n",
    "- Arrays"
   ]
  },
  {
   "cell_type": "markdown",
   "metadata": {},
   "source": [
    "### 1.5.1. Tuples\n",
    "\n",
    "Contenedor que **no** permite modificaciones una vez se define. Su sintaxis es:\n",
    "\n",
    " ```julia\n",
    " (item1, item2, ...)\n",
    " ```"
   ]
  },
  {
   "cell_type": "code",
   "execution_count": null,
   "metadata": {},
   "outputs": [],
   "source": [
    "bandeja_paisa = (\"frijol\", \"carne molida\", \"chicharrón\")\n",
    "\n",
    "# Tipo\n",
    "println(typeof(bandeja_paisa))\n",
    "\n",
    "# Index\n",
    "println(bandeja_paisa[3]) # ¡Importante! El conteo de índices inicia desde 1\n",
    "\n",
    "# Si intentamos modificarlo...\n",
    "bandeja_paisa[4] = \"chorizo\""
   ]
  },
  {
   "cell_type": "markdown",
   "metadata": {},
   "source": [
    "### 1.5.2. Dictionaries\n",
    "\n",
    "Los diccionarios, definidos con la función `Dict()`, son aprovechables para almacenar información relacionada. Su sintaxis es:\n",
    "\n",
    "```julia\n",
    "Dict(key1 => value1, key2 => value2, ...)\n",
    "```"
   ]
  },
  {
   "cell_type": "code",
   "execution_count": null,
   "metadata": {},
   "outputs": [],
   "source": [
    "usuarios = Dict(\"Diego Quintero\" => \"da.quintero3014\",\n",
    "                \"Luis Montenegro\" => \"ls.montenegro\",\n",
    "                \"Juan Ortiz\" => \"jf.ortizm\")\n",
    "\n",
    "# Tipo\n",
    "println(typeof(usuarios))\n",
    "\n",
    "# Keys\n",
    "println(keys(usuarios))\n",
    "\n",
    "# Values\n",
    "println(values(usuarios))"
   ]
  },
  {
   "cell_type": "code",
   "execution_count": null,
   "metadata": {},
   "outputs": [],
   "source": [
    "#=\n",
    "En los diccionarios podemos almacenar cualquier tipo de variables\n",
    "=#\n",
    "\n",
    "# Arrays en Dict\n",
    "estudiantes = Dict(\"Diego Quintero\" => [\"da.quintero3014\", 201017845],\n",
    "                   \"Luis Montenegro\" => [\"ls.montenegro\", 201713878],\n",
    "                   \"Juan Ortiz\" => [\"jf.ortizm\", 201814530])\n",
    "\n",
    "println(keys(estudiantes)) # Keys\n",
    "println(values(estudiantes), \"\\n\") # Values\n",
    "\n",
    "# Dict en Dict\n",
    "estudiantes = Dict(\"Diego Quintero\" => Dict(\"Correo\" => \"da.quintero3014\", \"Código\" => 201017845),\n",
    "                   \"Luis Montenegro\" => Dict(\"Correo\" => \"ls.montenegro\", \"Código\" => 201713878),\n",
    "                   \"Juan Ortiz\" => Dict(\"Correo\" => \"jf.ortizm\", \"Código\" => 201814530))\n",
    "\n",
    "println(keys(estudiantes)) # Keys\n",
    "println(values(estudiantes)) # Values\n",
    "println()\n",
    "\n",
    "# Acceso por Index\n",
    "println(estudiantes[\"Luis Montenegro\"][\"Código\"])\n",
    "println(estudiantes[collect(keys(estudiantes))[2]][\"Código\"]) # ¿Qué obtenemos con collect(keys(estudiantes))[2]?\n",
    "println()\n",
    "\n",
    "# Para Agregar...\n",
    "estudiantes[\"Juan Sabogal\"] = Dict(\"Correo\" => \"jd.sabogal\", \"Código\" => 201815222) # ¿Por qué '=' y no '=>'?\n",
    "println(keys(estudiantes)) # Keys\n",
    "println(values(estudiantes)) # Values"
   ]
  },
  {
   "cell_type": "markdown",
   "metadata": {},
   "source": [
    "### 1.5.3. Arrays\n",
    "Los Array difieren de los Tuple porque **sí** se pueden modificar. Además, difieren de los Dictionaries porque son contenedores ordenados. La sintaxis es:\n",
    "\n",
    "```julia\n",
    "[item1, item2, ...]\n",
    "```\n",
    "\n",
    "**Importante:** Note que los Array se definen con `[]` mientras que los Tuples como `()`.\n",
    "\n",
    "Note que ciertas funciones incluyen `!` pues alteran el contenido de la variable de entrada."
   ]
  },
  {
   "cell_type": "code",
   "execution_count": null,
   "metadata": {},
   "outputs": [],
   "source": [
    "cursos_IMEC = [\"Introducción\", \"Fundamentos\", \"Dinámica\", \"Sólidos Rígidos\", \"Conversión\"]"
   ]
  },
  {
   "cell_type": "code",
   "execution_count": null,
   "metadata": {},
   "outputs": [],
   "source": [
    "# Index\n",
    "println(cursos_IMEC[3])\n",
    "\n",
    "# Modificación\n",
    "replace!(cursos_IMEC, \"Sólidos Rígidos\" => \"Sólidos Deformables\") # Usamos la función replace() con el símbolo '!', ¿por qué?\n",
    "println(cursos_IMEC)\n",
    "\n",
    "# Agregar\n",
    "push!(cursos_IMEC, \"Herramientas Computacionales\") # Usamos la función push() con el símbolo '!', ¿por qué?\n",
    "println(cursos_IMEC)"
   ]
  },
  {
   "cell_type": "code",
   "execution_count": null,
   "metadata": {},
   "outputs": [],
   "source": [
    "#=\n",
    "También puedo definir un Array dentro de otro Array\n",
    "=#\n",
    "\n",
    "mix = [[\"A\", \"B\", \"C\"], [1, 2], [\"a\", \"b\", 3, 4, \"e\"]]"
   ]
  },
  {
   "cell_type": "code",
   "execution_count": null,
   "metadata": {},
   "outputs": [],
   "source": [
    "#=\n",
    "Debemos tener cuidado al copiar un Array\n",
    "=#\n",
    "println(\"array1 = array2\")\n",
    "\n",
    "original = [1, 4, 9, 16, 25]\n",
    "println(\"Original: $original\")\n",
    "\n",
    "copia = original\n",
    "copia[3] = 1000\n",
    "println(\"Copia: $copia\")\n",
    "println(\"Original: $original\")\n",
    "println()\n",
    "\n",
    "# Pero, al usar la función 'copy()'\n",
    "println(\"FUNCIÓN copy()\")\n",
    "\n",
    "original = [1, 4, 9, 16, 25]\n",
    "println(\"Original: $original\")\n",
    "\n",
    "copia = copy(original)\n",
    "copia[3] = 1000\n",
    "println(\"Copia: $copia\")\n",
    "println(\"Original: $original\")"
   ]
  },
  {
   "cell_type": "markdown",
   "metadata": {},
   "source": [
    "## 1.6. Iteradores\n",
    "\n",
    "Se disponen dos iteradores: `While` y `For`."
   ]
  },
  {
   "cell_type": "markdown",
   "metadata": {},
   "source": [
    "### 1.6.1. While Loop\n",
    "Tiene la sintaxis:\n",
    "\n",
    "```julia\n",
    "while *condición*\n",
    "    *algoritmo*\n",
    "end\n",
    "```"
   ]
  },
  {
   "cell_type": "code",
   "execution_count": null,
   "metadata": {},
   "outputs": [],
   "source": [
    "i = 0\n",
    "\n",
    "while i <= 10\n",
    "    println(\"$i\")\n",
    "    i += 1\n",
    "end"
   ]
  },
  {
   "cell_type": "markdown",
   "metadata": {},
   "source": [
    "### 1.6.2. For Loop\n",
    "Tiene la sintaxis:\n",
    "\n",
    "```julia\n",
    "for *var* in *iteración*\n",
    "    *algoritmo*\n",
    "end\n",
    "```"
   ]
  },
  {
   "cell_type": "code",
   "execution_count": null,
   "metadata": {},
   "outputs": [],
   "source": [
    "for i in 0:1:10 # first:step:last\n",
    "    println(i)\n",
    "end"
   ]
  },
  {
   "cell_type": "code",
   "execution_count": null,
   "metadata": {},
   "outputs": [],
   "source": [
    "#=\n",
    "También podemos iterar en una lista\n",
    "=#\n",
    "for estudiante in collect(keys(estudiantes))\n",
    "    println(\"¡Hola, $(estudiante)!\")\n",
    "end"
   ]
  },
  {
   "cell_type": "code",
   "execution_count": null,
   "metadata": {},
   "outputs": [],
   "source": [
    "# Si concatenamos los For-loop...\n",
    "for i = 1 : 3\n",
    "    for j = 1 : 5\n",
    "        print(\"($i,$j) \")\n",
    "    end\n",
    "    println() # blank line\n",
    "end"
   ]
  },
  {
   "cell_type": "code",
   "execution_count": null,
   "metadata": {},
   "outputs": [],
   "source": [
    "# También es posible hacerlo en menos líneas de código\n",
    "for i = 1 : 3, j = 1 : 5\n",
    "    print(\"($i,$j) \")\n",
    "end"
   ]
  },
  {
   "cell_type": "markdown",
   "metadata": {},
   "source": [
    "## 1.7. Condicionales\n",
    "La sintaxis es:\n",
    "\n",
    "```julia\n",
    "if *condición 1*\n",
    "    *opción 1*\n",
    "\n",
    "elseif *condición 2*\n",
    "    *opción 2*\n",
    "    \n",
    "else\n",
    "    *opción 3*\n",
    "end\n",
    "```"
   ]
  },
  {
   "cell_type": "code",
   "execution_count": null,
   "metadata": {},
   "outputs": [],
   "source": [
    "puntaje = 81\n",
    "    \n",
    "if puntaje >= 90\n",
    "    println(\"Sobresaliente\")\n",
    "\n",
    "elseif puntaje < 90 && puntaje >= 80 # && es AND y || es OR\n",
    "    println(\"Suficiente\")\n",
    "\n",
    "else\n",
    "    println(\"Aceptable\")\n",
    "end"
   ]
  },
  {
   "cell_type": "markdown",
   "metadata": {},
   "source": [
    "## 1.8. Funciones"
   ]
  },
  {
   "cell_type": "code",
   "execution_count": null,
   "metadata": {},
   "outputs": [],
   "source": [
    "#=\n",
    "Por ejemplo, para calcular el promedio de tres números\n",
    "=#\n",
    "    function average3(num1::Float64, num2::Int64, num3)\n",
    "        avg = round((num1+num2+num3)/3, digits=2)\n",
    "        println(\"The average of $num1, $num2 and $num3 is $avg.\")\n",
    "    end\n",
    "    \n",
    "    average3(5.3, 17, 2)"
   ]
  },
  {
   "cell_type": "markdown",
   "metadata": {},
   "source": [
    "<a id=\"section2\"></a>\n",
    "# Sección 2: Extender las Bases\n",
    "## 2.1. Librerías\n",
    "\n",
    "**¡Importante!** Note que la carpeta `week1` contiene dos archivos: `Project.toml` y `Manifest.toml`. Estos configuran el <font color=\"#FF5733\">*ambiente de trabajo*</font> y facilitan el manejo de <font color=\"#FF5733\">librerías</font>.\n",
    "\n",
    "Para inicializar el ambiente desde el terminal, ejecute lo siguiente:\n",
    "\n",
    "```shell\n",
    "$ (v1.7) pkg > activate .\n",
    "$ (week1) pkg> instantiate\n",
    "```\n",
    "\n",
    "**Nota:** Para acceder al Pkg REPL, escriba el corchete derecho `]` en el Julia REPL. Note que el REPL cambie de color de verde (Julia REPL) a azul (Pkg REPL). Una vez ejecutado el código `activate .`, el prefijo entre paréntesis que indica el ambiente activo, cambia de `v1.7`a `week1`.\n",
    "\n",
    "O, desde Jupyter Notebook, ejecute:\n",
    "\n",
    "```julia\n",
    "$ using Pkg\n",
    "$ Pkg.activate()\n",
    "$ Pkg.instantiate()\n",
    "```\n",
    "\n",
    "**Nota:** La activación del ambiente <font color=\"#FF5733\">*precompila*</font> las librerías por lo que puede tardar un momento su ejecución completa.\n",
    "\n",
    "<div class=\"alert alert-block alert-info\">\n",
    "    \n",
    "<i class=\"fa fa-info-circle\" aria-hidden=\"true\"></i>\n",
    "Puede obtener más información en la documentación oficial de la librería [`Pkg.jl`](https://pkgdocs.julialang.org/v1/environments/) y en el documento dando clic [aquí](https://towardsdatascience.com/how-to-setup-project-environments-in-julia-ec8ae73afe9c).\n",
    "</div>"
   ]
  },
  {
   "cell_type": "code",
   "execution_count": null,
   "metadata": {},
   "outputs": [],
   "source": [
    "using Pkg\n",
    "Pkg.activate(pwd())\n",
    "Pkg.instantiate()"
   ]
  },
  {
   "cell_type": "code",
   "execution_count": null,
   "metadata": {},
   "outputs": [],
   "source": [
    "using Pkg\n",
    "Pkg.add(\"XLSX\")\n",
    "Pkg.add(\"CSV\")\n",
    "Pkg.add(\"DataFrames\")"
   ]
  },
  {
   "cell_type": "code",
   "execution_count": null,
   "metadata": {},
   "outputs": [],
   "source": [
    "Pkg.status()"
   ]
  },
  {
   "cell_type": "code",
   "execution_count": null,
   "metadata": {},
   "outputs": [],
   "source": [
    "using DataFrames, XLSX\n",
    "df1 = DataFrame(XLSX.readtable(\"./data/hc-users.xlsx\", \"Users\")...)\n",
    "\n",
    "println(\"El DataFrame tiene $(size(df1)[1]) filas y $(size(df1)[2]) columnas.\")\n",
    "\n",
    "first(df1, 5)"
   ]
  },
  {
   "cell_type": "markdown",
   "metadata": {},
   "source": [
    "Es posible trabajar con esta información para obtener métricas descriptivas interesantes. Por ejemplo, podemos analizar en qué\n",
    "año ingresaron a la Universidad los estudiantes del curso (asumiendo que esta información la da los cuatro primeros dígitos del código, es decir, de la columna `OrgDefinedId`)."
   ]
  },
  {
   "cell_type": "code",
   "execution_count": null,
   "metadata": {},
   "outputs": [],
   "source": [
    "# 1. Lista para almacenar los cuatro primeros dígitos del código (i.e., año)\n",
    "id_year = []\n",
    "\n",
    "# 2. Iteración para extraer el año del código y almacenarlo en la lista 'id_year'\n",
    "for i in df1.OrgDefinedId\n",
    "    push!(id_year, parse(Int64, i[1:4]))\n",
    "end\n",
    "\n",
    "println(id_year[1:5])\n",
    "println(\"\") # Línea en blanco para mejor visualización\n",
    "\n",
    "# 3. Agregar esta información en el DataFrame 'df1'\n",
    "df1[!, :Year] = id_year\n",
    "show(df1[1:5, [:Username, :Year]])\n",
    "\n",
    "# 4. Análisis del año\n",
    "describe(df1, cols=:Year)"
   ]
  },
  {
   "cell_type": "markdown",
   "metadata": {},
   "source": [
    "Para el caso de datos tabulares en formato CSV, usamos la correspondiente librería (i.e., `CSV`)."
   ]
  },
  {
   "cell_type": "code",
   "execution_count": null,
   "metadata": {},
   "outputs": [],
   "source": [
    "using CSV\n",
    "\n",
    "file = CSV.File(\"./data/hc-users.csv\", header=1, delim=';')\n",
    "df2 = DataFrame(file)\n",
    "\n",
    "first(df2, 5)"
   ]
  },
  {
   "cell_type": "markdown",
   "metadata": {},
   "source": [
    "## 2.2. Gráficas\n",
    "\n",
    "Julia dispone de diversas librerías para generar visualizaciones ([aquí](https://juliapackages.com/c/graphics)). En este caso, usaremos `Plots.jl`."
   ]
  },
  {
   "cell_type": "code",
   "execution_count": null,
   "metadata": {},
   "outputs": [],
   "source": [
    "using Plots\n",
    "plot(rand(4,4))"
   ]
  },
  {
   "cell_type": "code",
   "execution_count": null,
   "metadata": {},
   "outputs": [],
   "source": [
    "import Plots\n",
    "const plt = Plots # 'plt' es un alias de 'Plots'; equivalente a \"import Plots as pl\" en Python\n",
    "plt.plot(rand(4,4))"
   ]
  },
  {
   "cell_type": "code",
   "execution_count": null,
   "metadata": {},
   "outputs": [],
   "source": [
    "using Plots\n",
    "\n",
    "plot(df1.Username, df1.Year,\n",
    "     seriestype = :bar, \n",
    "     title=\"Año Ingreso a Uniandes\", \n",
    "     xlabel=\"Usuario\", \n",
    "     ylabel=\"Año\",\n",
    "     xrotation=90,\n",
    "     ylims = (2008,2022),\n",
    "     legend=false,\n",
    "     xticks=(0.5:17, df1.Username))"
   ]
  },
  {
   "cell_type": "code",
   "execution_count": null,
   "metadata": {},
   "outputs": [],
   "source": [
    "#=\n",
    "Algunas propiedades de Plots.jl\n",
    "=#\n",
    "x = collect(0:π/12:4π)\n",
    "y1 = [sin(i) for i in x]\n",
    "y2 = cos.(x)\n",
    "\n",
    "plot(x, y1, label=\"sin(x)\")\n",
    "scatter!(x, y2, label=\"cos(x)\")"
   ]
  },
  {
   "cell_type": "code",
   "execution_count": null,
   "metadata": {},
   "outputs": [],
   "source": [
    "xlabel!(\"Ángulo π\")\n",
    "ylabel!(\"Respuesta Unitaria\")\n",
    "title!(\"Comportamiento sin(x) y cos(x)\")"
   ]
  },
  {
   "cell_type": "code",
   "execution_count": null,
   "metadata": {},
   "outputs": [],
   "source": [
    "y3 = atan.(x)\n",
    "y4 = exp.(x)\n",
    "\n",
    "p1 = plot(x, y1, label=\"sin(x)\", color=\"dodgerblue\")\n",
    "p2 = plot(x, y2, label=\"cos(x)\", color=\"red\")\n",
    "p3 = plot(x, y3, label=\"atan(x)\", color=\"orange\")\n",
    "p4 = plot(x, y4, label=\"exp(x)\", color=\"green\")\n",
    "\n",
    "plot(p1, p2, p3, p4, layout=(2,2), legend=true)"
   ]
  }
 ],
 "metadata": {
  "kernelspec": {
   "display_name": "Julia 1.7.2",
   "language": "julia",
   "name": "julia-1.7"
  },
  "language_info": {
   "file_extension": ".jl",
   "mimetype": "application/julia",
   "name": "julia",
   "version": "1.7.2"
  },
  "toc": {
   "base_numbering": 1,
   "nav_menu": {},
   "number_sections": false,
   "sideBar": true,
   "skip_h1_title": true,
   "title_cell": "Table of Contents",
   "title_sidebar": "Contents",
   "toc_cell": false,
   "toc_position": {},
   "toc_section_display": true,
   "toc_window_display": false
  }
 },
 "nbformat": 4,
 "nbformat_minor": 2
}

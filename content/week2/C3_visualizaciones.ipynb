{
 "cells": [
  {
   "cell_type": "markdown",
   "metadata": {},
   "source": [
    "# IMEC2201 Herramientas Computacionales \n",
    "## Semana 2: Gráficas y Visualizaciones\n",
    "### Clase 3: Configuración Espacio de Trabajo\n",
    "\n",
    "Universidad de los Andes — Abril 4, 2022.\n",
    "\n",
    "---\n",
    "\n",
    "## TABLA DE CONTENIDO\n",
    "\n",
    "### Sección 1: DataFrames.jl [→](#section1)\n",
    "- 1.1. Cargar Librerías\n",
    "- 1.2. Cargar Datos desde Excel\n",
    "    - 1.2.1. Valores 'Missing'\n",
    "    - 1.2.2. Filtrar Datos    \n",
    "- 1.3. Extraer Año, Mes, Día\n",
    "- 1.4. Reordenar Columnas\n",
    "- 1.5. Datos Únicos con unique()\n",
    "- 1.6. Query\n",
    "- 1.7. Concatenar DataFrames\n",
    "    - 1.7.1. DataFrame de Voltaje DC\n",
    "    - 1.7.2. DataFrame de Corriente DC\n",
    "    - 1.7.3. DataFrame con Irradiancia, Voltaje DC y Corriente DC\n",
    "- 1.8. Descargar Archivo\n",
    "\n",
    "### Sección 2: Plots.jl [→](#section2)\n",
    "- 2.1. Bases\n",
    "- 2.2. Gráficas con Datos de DataFrame\n",
    "___"
   ]
  },
  {
   "cell_type": "markdown",
   "metadata": {},
   "source": [
    "**¡Importante!** Note que la carpeta **week2** contiene dos archivos: `Project.toml` y `Manifest.toml`. Estos configuran el <font color=\"#FF5733\">*ambiente de trabajo*</font> y facilitan el manejo de <font color=\"#FF5733\">librerías</font>.\n",
    "\n",
    "Para inicializar el ambiente desde Julia REPL, dentro de la carpeta **week2**, ejecute lo siguiente:\n",
    "\n",
    "```shell\n",
    "$ (v1.7) pkg > activate .\n",
    "$ (week2) pkg> instantiate\n",
    "```\n",
    "\n",
    "**Nota:** Para acceder al Pkg REPL, escriba el corchete derecho `]` en el Julia REPL. Note que el REPL cambie de color de verde (Julia REPL) a azul (Pkg REPL). Una vez ejecutado el código `activate .`, el prefijo entre paréntesis indica el ambiente activo: cambia de `v1.7` a `week2`.\n",
    "\n",
    "O, desde Jupyter Notebook, ejecute:\n",
    "\n",
    "```julia\n",
    "$ using Pkg\n",
    "$ Pkg.activate()\n",
    "$ Pkg.instantiate()\n",
    "```\n",
    "\n",
    "**Nota:** La activación del ambiente <font color=\"#FF5733\">*precompila*</font> las librerías por lo que puede tardar un momento su ejecución completa.\n",
    "\n",
    "<div class=\"alert alert-block alert-info\">\n",
    "    \n",
    "<i class=\"fa fa-info-circle\" aria-hidden=\"true\"></i>\n",
    "Puede obtener más información en la documentación oficial de la librería [`Pkg.jl`](https://pkgdocs.julialang.org/v1/environments/) y en el documento dando clic [aquí](https://towardsdatascience.com/how-to-setup-project-environments-in-julia-ec8ae73afe9c).\n",
    "</div>"
   ]
  },
  {
   "cell_type": "code",
   "execution_count": null,
   "metadata": {},
   "outputs": [],
   "source": [
    "using Pkg\n",
    "Pkg.activate(pwd())\n",
    "Pkg.instantiate()"
   ]
  },
  {
   "cell_type": "markdown",
   "metadata": {},
   "source": [
    "<a id=\"section1\"></a>\n",
    "# Sección 1: DataFrames.jl"
   ]
  },
  {
   "cell_type": "markdown",
   "metadata": {},
   "source": [
    "## 1.1. Cargar Librerías"
   ]
  },
  {
   "cell_type": "code",
   "execution_count": null,
   "metadata": {},
   "outputs": [],
   "source": [
    "using Pkg\n",
    "Pkg.add(\"XLSX\")\n",
    "Pkg.add(\"CSV\")\n",
    "Pkg.add(\"DataFrames\")"
   ]
  },
  {
   "cell_type": "code",
   "execution_count": null,
   "metadata": {},
   "outputs": [],
   "source": [
    "Pkg.status()"
   ]
  },
  {
   "cell_type": "markdown",
   "metadata": {},
   "source": [
    "## 1.2. Cargar Datos desde Excel"
   ]
  },
  {
   "cell_type": "code",
   "execution_count": null,
   "metadata": {},
   "outputs": [],
   "source": [
    "using DataFrames, XLSX\n",
    "\n",
    "rad = DataFrame(XLSX.readtable(\"./data/SD_5Min.xlsx\", \"Radiacion\", header=true)...)\n",
    "\n",
    "println(\"El DataFrame tiene $(size(df1)[1]) filas y $(size(df1)[2]) columnas.\")\n",
    "\n",
    "first(rad, 5)"
   ]
  },
  {
   "cell_type": "code",
   "execution_count": null,
   "metadata": {},
   "outputs": [],
   "source": [
    "describe(rad)"
   ]
  },
  {
   "cell_type": "markdown",
   "metadata": {},
   "source": [
    "### 1.2.1. Valores 'Missing'"
   ]
  },
  {
   "cell_type": "code",
   "execution_count": null,
   "metadata": {},
   "outputs": [],
   "source": [
    "encabezados = names(rad)\n",
    "\n",
    "for i in encabezados\n",
    "    println(i)\n",
    "end"
   ]
  },
  {
   "cell_type": "code",
   "execution_count": null,
   "metadata": {},
   "outputs": [],
   "source": [
    "#=\n",
    "Iteramos sobre las columnas del DataFrame 'rad'\n",
    "para verificar la cantidad de datos faltantes\n",
    "=#\n",
    "\n",
    "for i in encabezados\n",
    "    println(\"$i - $(sum(ismissing.(rad[:,i])))\")\n",
    "end"
   ]
  },
  {
   "cell_type": "markdown",
   "metadata": {},
   "source": [
    "El siguiente código permite filtrar los datos faltantes y asignarles un valor de cero.\n",
    "\n",
    "```julia\n",
    "rad[:,\"Meteocontrol Irrad (W/m2)\"] = replace(rad[:,\"Meteocontrol Irrad (W/m2)\"], missing => 0)\n",
    "```\n",
    "\n",
    "Realizar de manera manual este prodecimiento para todas las columnas es tedioso y propenso a errores. ¿Cómo podríamos hacerlo con un *for loop*?"
   ]
  },
  {
   "cell_type": "code",
   "execution_count": null,
   "metadata": {},
   "outputs": [],
   "source": [
    "# For Loop\n",
    "for i in encabezados\n",
    "    rad[:,i] = replace(rad[:,i], missing => 0)\n",
    "end\n",
    "\n",
    "# Verificación\n",
    "for i in encabezados\n",
    "    println(\"$i - $(sum(ismissing.(rad[:,i])))\")\n",
    "end"
   ]
  },
  {
   "cell_type": "markdown",
   "metadata": {},
   "source": [
    "### 1.2.2. Filtrar Datos\n",
    "\n",
    "\n",
    "Note que la columna **Meteocontrol Irrad** reporta valores mínimos hasta 1. Esto se desea filtrar para reducir el valor mínimo de 1 a 0 si la irradiancia es menor o igual a 1.5 W/m2."
   ]
  },
  {
   "cell_type": "code",
   "execution_count": null,
   "metadata": {},
   "outputs": [],
   "source": [
    "# Sin Filtro\n",
    "first(rad, 5)"
   ]
  },
  {
   "cell_type": "code",
   "execution_count": null,
   "metadata": {},
   "outputs": [],
   "source": [
    "#= Con Filtro\n",
    "\n",
    "Tomado de: https://discourse.julialang.org/t/how-to-replace-set-change-value-in-array-dataframe-if-value-is-less-greater-than/51039/2\n",
    "=#\n",
    "\n",
    "rad[:,\"Meteocontrol Irrad (W/m2)\"] .= ifelse.(rad[:,\"Meteocontrol Irrad (W/m2)\"] .<= 1.5, 0.0, rad[:,\"Meteocontrol Irrad (W/m2)\"])\n",
    "\n",
    "first(rad, 5)"
   ]
  },
  {
   "cell_type": "markdown",
   "metadata": {},
   "source": [
    "## 1.3. Extraer Año, Mes, Día\n",
    "\n",
    "El tipo de las columnas, visto desde el DataFrame de la celda, es `Any`."
   ]
  },
  {
   "cell_type": "code",
   "execution_count": null,
   "metadata": {},
   "outputs": [],
   "source": [
    "first(rad, 5)"
   ]
  },
  {
   "cell_type": "code",
   "execution_count": null,
   "metadata": {},
   "outputs": [],
   "source": [
    "#=\n",
    "También lo podemos saber al extraer la información\n",
    "por cada columna, según StackOverflow\n",
    "https://stackoverflow.com/questions/57863153/julia-how-to-obtain-the-types-of-every-column-of-a-dataframe-table\n",
    "=#\n",
    "\n",
    "eltype.(eachcol(rad))"
   ]
  },
  {
   "cell_type": "markdown",
   "metadata": {},
   "source": [
    "¿Cuál es el tipo (`typeof()`) de los datos de la columna **Date**?\n",
    "\n",
    "<font color=\"white\">\n",
    "for i in 1:5\n",
    "    println(\"$(rad[i, \"Date\"]) - Tipo: $(typeof(rad[i, \"Date\"]))\")\n",
    "end\n",
    "</font>"
   ]
  },
  {
   "cell_type": "code",
   "execution_count": null,
   "metadata": {},
   "outputs": [],
   "source": [
    "???"
   ]
  },
  {
   "cell_type": "markdown",
   "metadata": {},
   "source": [
    "`Dates.DateTime` es un tipo de dato especial para trabajar con fechas. Así, es más sencillo extraer, por ejemplo, el año, mes o día de una fecha específica. Más información [aquí](https://docs.julialang.org/en/v1/stdlib/Dates/)."
   ]
  },
  {
   "cell_type": "code",
   "execution_count": null,
   "metadata": {},
   "outputs": [],
   "source": [
    "using Dates\n",
    "\n",
    "println(\"Año: $(Dates.year(rad[1, \"Date\"]))\")\n",
    "println(\"Mes: $(Dates.month(rad[1, \"Date\"]))\")\n",
    "println(\"Día: $(Dates.day(rad[1, \"Date\"]))\")"
   ]
  },
  {
   "cell_type": "markdown",
   "metadata": {},
   "source": [
    "¿Y si queremos conocer la hora, minuto y segundos? ¿Por qué nos salta error para el primer dato?"
   ]
  },
  {
   "cell_type": "code",
   "execution_count": null,
   "metadata": {},
   "outputs": [],
   "source": [
    "dato = 1\n",
    "println(\"$(rad[dato, \"Date\"]) - Tipo: $(typeof(rad[dato, \"Date\"]))\")\n",
    "println(\"Hora: $(Dates.hour(rad[dato, \"Date\"]))\")\n",
    "println(\"Minuto: $(Dates.minute(rad[dato, \"Date\"]))\")\n",
    "println(\"Segundo: $(Dates.second(rad[dato, \"Date\"]))\")"
   ]
  },
  {
   "cell_type": "code",
   "execution_count": null,
   "metadata": {},
   "outputs": [],
   "source": [
    "dato = 2\n",
    "println(\"$(rad[dato, \"Date\"]) - Tipo: $(typeof(rad[dato, \"Date\"]))\")\n",
    "println(\"Hora: $(Dates.hour(rad[dato, \"Date\"]))\")\n",
    "println(\"Minuto: $(Dates.minute(rad[dato, \"Date\"]))\")\n",
    "println(\"Segundo: $(Dates.second(rad[dato, \"Date\"]))\")"
   ]
  },
  {
   "cell_type": "markdown",
   "metadata": {},
   "source": [
    "Con estas funciones, iteremos el DataFrame `rad` para agregar las columnas de Año, Mes y Día."
   ]
  },
  {
   "cell_type": "code",
   "execution_count": null,
   "metadata": {},
   "outputs": [],
   "source": [
    "_año = []\n",
    "\n",
    "for i in rad[:,\"Date\"]\n",
    "    push!(_año, Dates.year(i))\n",
    "end\n",
    "\n",
    "rad[:, \"Year\"] = _año # Creamos la columna \"Year\" y asignamos los valores \"_año\"\n",
    "\n",
    "first(rad, 5)"
   ]
  },
  {
   "cell_type": "markdown",
   "metadata": {},
   "source": [
    "¿Cómo agregaría las columnas de Mes y Día?\n",
    "<font color=\"white\">\n",
    "_mes = []\n",
    "_dia = []\n",
    "\n",
    "for i in rad[:,\"Date\"]\n",
    "    push!(_mes, Dates.month(i))\n",
    "    push!(_dia, Dates.day(i))\n",
    "end\n",
    "\n",
    "rad[:, \"Month\"] = _mes # Creamos la columna \"Month\" y asignamos los valores \"_mes\"\n",
    "rad[:, \"Day\"] = _dia # Creamos la columna \"Day\" y asignamos los valores \"_dia\"\n",
    "\n",
    "first(rad[:, [\"Date\", \"Year\", \"Month\", \"Day\"]], 5)\n",
    "</font>"
   ]
  },
  {
   "cell_type": "code",
   "execution_count": null,
   "metadata": {},
   "outputs": [],
   "source": [
    "???"
   ]
  },
  {
   "cell_type": "markdown",
   "metadata": {},
   "source": [
    "## 1.4. Reordenar Columnas"
   ]
  },
  {
   "cell_type": "code",
   "execution_count": null,
   "metadata": {},
   "outputs": [],
   "source": [
    "names(rad)"
   ]
  },
  {
   "cell_type": "code",
   "execution_count": null,
   "metadata": {},
   "outputs": [],
   "source": [
    "rad = rad[:,[\"Date\", \"Year\", \"Month\", \"Day\", \"Lufft Irrad (W/m2)\", \"Meteocontrol Irrad (W/m2)\"]]\n",
    "\n",
    "first(rad, 5)"
   ]
  },
  {
   "cell_type": "markdown",
   "metadata": {},
   "source": [
    "## 1.5. Datos Únicos con `unique()`"
   ]
  },
  {
   "cell_type": "code",
   "execution_count": null,
   "metadata": {},
   "outputs": [],
   "source": [
    "unique(rad[:,\"Year\"])"
   ]
  },
  {
   "cell_type": "code",
   "execution_count": null,
   "metadata": {},
   "outputs": [],
   "source": [
    "unique(sort(rad[:,\"Month\"]))"
   ]
  },
  {
   "cell_type": "code",
   "execution_count": null,
   "metadata": {
    "scrolled": false
   },
   "outputs": [],
   "source": [
    "unique(rad[:,\"Day\"])"
   ]
  },
  {
   "cell_type": "markdown",
   "metadata": {},
   "source": [
    "## 1.6. Query"
   ]
  },
  {
   "cell_type": "code",
   "execution_count": null,
   "metadata": {
    "scrolled": true
   },
   "outputs": [],
   "source": [
    "#=\n",
    "Solo queremos ver datos para Junio-2021\n",
    "=#\n",
    "\n",
    "rad[ (rad[:, \"Year\"] .== 2021) .&& (rad[:, \"Month\"] .== 6), :]"
   ]
  },
  {
   "cell_type": "code",
   "execution_count": null,
   "metadata": {},
   "outputs": [],
   "source": [
    "#=\n",
    "Solo queremos ver datos cuando Meteocontrol Irrad >= 400\n",
    "=#\n",
    "\n",
    "first(rad[(rad[:, \"Meteocontrol Irrad (W/m2)\"] .>= 400), :], 10)"
   ]
  },
  {
   "cell_type": "code",
   "execution_count": null,
   "metadata": {},
   "outputs": [],
   "source": [
    "#=\n",
    "Solo queremos ver datos cuando (Lufft Irrad - Meteocontrol Irrad) <= 100\n",
    "=#\n",
    "\n",
    "first(rad[ ((rad[:, \"Lufft Irrad (W/m2)\"] - rad[:, \"Meteocontrol Irrad (W/m2)\"]) .<= 100), :], 10)"
   ]
  },
  {
   "cell_type": "markdown",
   "metadata": {},
   "source": [
    "<font color=\"white\">\n",
    "query = \n",
    "    rad[\n",
    "        (rad[:, \"Year\"] .== 2020) .&\n",
    "        ((rad[:, \"Month\"] .== 8) .| (rad[:, \"Month\"] .== 9)) .& \n",
    "        (  (rad[:, \"Day\"] .== 10)   .|   (rad[:, \"Day\"] .== 15)  ) .&\n",
    "        (rad[:, \"Meteocontrol Irrad (W/m2)\"] .>= 400)\n",
    "    , :]\n",
    "first(query, 5)\n",
    "</font>"
   ]
  },
  {
   "cell_type": "code",
   "execution_count": null,
   "metadata": {},
   "outputs": [],
   "source": [
    "#=\n",
    "Solo queremos ver datos cuando:\n",
    "    1. Año = 2020\n",
    "    2. Mes = Agosto y Septiembre\n",
    "    3. Día = 10 o 15\n",
    "    4. Meteocontrol Irrad >= 800\n",
    "=#\n",
    "???"
   ]
  },
  {
   "cell_type": "code",
   "execution_count": null,
   "metadata": {},
   "outputs": [],
   "source": [
    "# Verifiquemos\n",
    "println(unique(query[:, \"Year\"]))\n",
    "println(unique(query[:, \"Month\"]))\n",
    "println(unique(query[:, \"Day\"]))\n",
    "println(minimum(query[:, \"Meteocontrol Irrad (W/m2)\"]))"
   ]
  },
  {
   "cell_type": "markdown",
   "metadata": {},
   "source": [
    "Para el caso de datos tabulares en formato CSV, usamos la correspondiente librería (i.e., `CSV`)."
   ]
  },
  {
   "cell_type": "code",
   "execution_count": null,
   "metadata": {},
   "outputs": [],
   "source": [
    "using CSV\n",
    "\n",
    "file = CSV.File(\"./data/hc-users.csv\", header=1, delim=';')\n",
    "df2 = DataFrame(file)\n",
    "\n",
    "first(df2, 5)"
   ]
  },
  {
   "cell_type": "markdown",
   "metadata": {},
   "source": [
    "### 1.7. Concatenar DataFrames"
   ]
  },
  {
   "cell_type": "markdown",
   "metadata": {},
   "source": [
    "### 1.7.1. DataFrame de Voltaje DC"
   ]
  },
  {
   "cell_type": "code",
   "execution_count": null,
   "metadata": {},
   "outputs": [],
   "source": [
    "Vdc = DataFrame(XLSX.readtable(\"./data/SD_5Min.xlsx\", \"Tension_DC\", header=true)...)\n",
    "\n",
    "println(\"El DataFrame tiene $(size(Vdc)[1]) filas y $(size(Vdc)[2]) columnas.\\n\")\n",
    "\n",
    "# For Loop\n",
    "for i in names(Vdc)\n",
    "    Vdc[:,i] = replace(Vdc[:,i], missing => 0)\n",
    "end\n",
    "\n",
    "# Verificación\n",
    "for i in names(Vdc)\n",
    "    println(\"$i - $(sum(ismissing.(Vdc[:,i])))\")\n",
    "end\n",
    "\n",
    "\n",
    "first(Vdc, 5)"
   ]
  },
  {
   "cell_type": "markdown",
   "metadata": {},
   "source": [
    "### 1.7.2. DataFrame de Corriente DC\n",
    "\n",
    "Cree un DataFrame a partir de importar los datos de corriente DC (hoja `Corriente_DC` en el archivo Excel) y reemplace los datos con tipo `missing` a cero."
   ]
  },
  {
   "cell_type": "code",
   "execution_count": null,
   "metadata": {},
   "outputs": [],
   "source": [
    "Idc = DataFrame(XLSX.readtable(\"./data/SD_5Min.xlsx\", \"Corriente_DC\", header=true)...)\n",
    "\n",
    "println(\"El DataFrame tiene $(size(Idc)[1]) filas y $(size(Idc)[2]) columnas.\\n\")\n",
    "\n",
    "# For Loop\n",
    "for i in names(Idc)\n",
    "    Idc[:,i] = replace(Idc[:,i], missing => 0)\n",
    "end\n",
    "\n",
    "# Verificación\n",
    "for i in names(Idc)\n",
    "    println(\"$i - $(sum(ismissing.(Idc[:,i])))\")\n",
    "end\n",
    "\n",
    "first(Idc, 5)"
   ]
  },
  {
   "cell_type": "markdown",
   "metadata": {},
   "source": [
    "### 1.7.3. DataFrame con Irradiancia, Voltaje DC y Corriente DC"
   ]
  },
  {
   "cell_type": "code",
   "execution_count": null,
   "metadata": {},
   "outputs": [],
   "source": [
    "#=\n",
    "Primero chequeamos que todos los DataFrame\n",
    "tengan la misma cantidad de filas con 'nrow()'\n",
    "=#\n",
    "println(\"Filas DataFrame Radiación: $(nrow(rad))\")\n",
    "println(\"Filas DataFrame Voltaje: $(nrow(Vdc))\")\n",
    "println(\"Filas DataFrame Corriente: $(nrow(Idc))\")"
   ]
  },
  {
   "cell_type": "markdown",
   "metadata": {},
   "source": [
    "Para realizar la concatenación, tenemos varias opciones:\n",
    "\n",
    "- `innerjoin`: la salida contiene filas para los valores de la clave que existen en los argumentos primero (izquierda) y segundo (derecha) para unir.\n",
    "\n",
    "- `leftjoin`: la salida contiene filas para los valores de la clave que existen en el primer argumento (izquierda) para unir, ya sea que ese valor exista o no en el segundo argumento (derecha).\n",
    "\n",
    "- `rightjoin`: la salida contiene filas para los valores de la clave que existen en el segundo argumento (derecha) para unir, ya sea que ese valor exista o no en el primer argumento (izquierda).\n",
    "\n",
    "- `outerjoin`: la salida contiene filas para los valores de la clave que existen en el primer argumento (izquierda) o segundo (derecha) para unir.\n",
    "\n",
    "Más info [aquí](https://dataframes.juliadata.org/stable/man/joins/)."
   ]
  },
  {
   "cell_type": "code",
   "execution_count": null,
   "metadata": {},
   "outputs": [],
   "source": [
    "df = innerjoin(rad, Vdc, on = \"Date\")\n",
    "\n",
    "describe(df)"
   ]
  },
  {
   "cell_type": "markdown",
   "metadata": {},
   "source": [
    "Concatene los datos del DataFrame `Idc` al DataFrame `df`.\n",
    "\n",
    "<font color=\"white\">\n",
    "df = innerjoin(df, Idc, on = \"Date\")\n",
    "describe(df)\n",
    "</font>"
   ]
  },
  {
   "cell_type": "code",
   "execution_count": null,
   "metadata": {},
   "outputs": [],
   "source": [
    "???"
   ]
  },
  {
   "cell_type": "markdown",
   "metadata": {},
   "source": [
    "## 1.8. Descargar Archivo"
   ]
  },
  {
   "cell_type": "code",
   "execution_count": null,
   "metadata": {},
   "outputs": [],
   "source": [
    "CSV.write(\"./produccion_solar.csv\", df, delim=';', decimal=',', header=true)"
   ]
  },
  {
   "cell_type": "markdown",
   "metadata": {},
   "source": [
    "<a id=\"section2\"></a>\n",
    "# Sección 2: Plots.jl"
   ]
  },
  {
   "cell_type": "markdown",
   "metadata": {},
   "source": [
    "## 2.1. Bases\n",
    "\n",
    "Julia dispone de diversas librerías para generar visualizaciones ([aquí](https://juliapackages.com/c/graphics)). En este caso, usaremos `Plots.jl`."
   ]
  },
  {
   "cell_type": "code",
   "execution_count": null,
   "metadata": {},
   "outputs": [],
   "source": [
    "using Plots\n",
    "plot(rand(4,4))"
   ]
  },
  {
   "cell_type": "code",
   "execution_count": null,
   "metadata": {},
   "outputs": [],
   "source": [
    "import Plots\n",
    "const plt = Plots # 'plt' es un alias de 'Plots'; equivalente a \"import Plots as pl\" en Python\n",
    "plt.plot(rand(4,4))"
   ]
  },
  {
   "cell_type": "code",
   "execution_count": null,
   "metadata": {},
   "outputs": [],
   "source": [
    "#=\n",
    "Algunas propiedades de Plots.jl\n",
    "=#\n",
    "\n",
    "x = collect(0:π/12:4π)\n",
    "y1 = [sin(i) for i in x]\n",
    "y2 = cos.(x)\n",
    "\n",
    "plot(x, y1, label=\"sin(x)\")\n",
    "scatter!(x, y2, label=\"cos(x)\")"
   ]
  },
  {
   "cell_type": "code",
   "execution_count": null,
   "metadata": {},
   "outputs": [],
   "source": [
    "xlabel!(\"Ángulo π\")\n",
    "ylabel!(\"Respuesta Unitaria\")\n",
    "title!(\"Comportamiento sin(x) y cos(x)\")"
   ]
  },
  {
   "cell_type": "code",
   "execution_count": null,
   "metadata": {},
   "outputs": [],
   "source": [
    "y3 = atan.(x)\n",
    "y4 = exp.(x)\n",
    "\n",
    "p1 = plot(x, y1, label=\"sin(x)\", color=\"dodgerblue\")\n",
    "p2 = plot(x, y2, label=\"cos(x)\", color=\"red\")\n",
    "p3 = plot(x, y3, label=\"atan(x)\", color=\"orange\")\n",
    "p4 = plot(x, y4, label=\"exp(x)\", color=\"green\")\n",
    "\n",
    "plot(p1, p2, p3, p4, layout=(2,2), legend=true)"
   ]
  },
  {
   "cell_type": "markdown",
   "metadata": {},
   "source": [
    "## 2.2. Gráficas con Datos de  DataFrame"
   ]
  },
  {
   "cell_type": "code",
   "execution_count": null,
   "metadata": {},
   "outputs": [],
   "source": [
    "first(df, 5) # Si queremos ver todo el DataFrame: show(df, allrows=true, allcols=true)"
   ]
  },
  {
   "cell_type": "code",
   "execution_count": null,
   "metadata": {},
   "outputs": [],
   "source": [
    "names(df)"
   ]
  },
  {
   "cell_type": "code",
   "execution_count": null,
   "metadata": {},
   "outputs": [],
   "source": [
    "query = \n",
    "    \n",
    "    rad[\n",
    "        (rad[:, \"Date\"] .>= DateTime(\"2020-01-01\", dateformat\"yyyy-mm-dd hh:mm:ss\")) .&\n",
    "        (rad[:, \"Date\"] .<= DateTime(\"2020-01-07\", dateformat\"yyyy-mm-dd hh:mm:ss\"))\n",
    "    , :]\n",
    "\n",
    "\n",
    "println(first(query))\n",
    "println()\n",
    "println(last(query))"
   ]
  },
  {
   "cell_type": "code",
   "execution_count": null,
   "metadata": {},
   "outputs": [],
   "source": [
    "ejex = query[:,\"Day\"] # Debemos transformar: Dates.format(query[2,\"Date\"], \"yyyy-mm-dd HH:MM:SS\")\n",
    "ejey = query[:,\"Meteocontrol Irrad (W/m2)\"]\n",
    "\n",
    "fig = plot(ejey,\n",
    "     seriestype = :line, \n",
    "     title=\"Comportamiento Irradiancia\", \n",
    "     xlabel=\"Tiempo\", \n",
    "     ylabel=\"Irradiancia (W/m2)\",\n",
    "     xrotation=90,\n",
    "     ylims=(0,1200),\n",
    "     lab=\"Irradiancia\",\n",
    "     legend=:topright,\n",
    "     ls=:dash,\n",
    "     lc=:grey,\n",
    "     m=:circle,\n",
    "     ms=4,\n",
    "     mc=:white)"
   ]
  },
  {
   "cell_type": "code",
   "execution_count": null,
   "metadata": {},
   "outputs": [],
   "source": [
    "savefig(fig, \"./irradiancia.png\")"
   ]
  }
 ],
 "metadata": {
  "kernelspec": {
   "display_name": "Julia 1.7.2",
   "language": "julia",
   "name": "julia-1.7"
  },
  "language_info": {
   "file_extension": ".jl",
   "mimetype": "application/julia",
   "name": "julia",
   "version": "1.7.2"
  },
  "toc": {
   "base_numbering": 1,
   "nav_menu": {},
   "number_sections": false,
   "sideBar": true,
   "skip_h1_title": true,
   "title_cell": "Table of Contents",
   "title_sidebar": "Contents",
   "toc_cell": false,
   "toc_position": {},
   "toc_section_display": true,
   "toc_window_display": false
  }
 },
 "nbformat": 4,
 "nbformat_minor": 2
}

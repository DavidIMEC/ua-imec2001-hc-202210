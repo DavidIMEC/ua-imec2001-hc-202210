{
 "cells": [
  {
   "cell_type": "markdown",
   "metadata": {},
   "source": [
    "# IMEC2201 Herramientas Computacionales \n",
    "## Semana 2: Gráficas y Visualizaciones\n",
    "### Clase 4: Ajuste de Datos e Incertidumbre\n",
    "\n",
    "Universidad de los Andes — Abril 6, 2022.\n",
    "\n",
    "---\n",
    "\n",
    "## TABLA DE CONTENIDO\n",
    "\n",
    "### Sección 1: Ajuste de Datos (Regresión OLS) [→](#section1)\n",
    "- 1.1. Cargar Librerías\n",
    "- 1.2. Mínimos Cuadrados Ordinarios (OLS)\n",
    "    - 1.2.1. Gráfica MBHP vs Masa\n",
    "    - 1.2.2. Ajuste Lineal\n",
    "    - 1.2.3. Coeficiente de Correlación\n",
    "    - 1.2.4. Caso Práctico\n",
    "- 1.3. Histogramas\n",
    "\n",
    "### Sección 2: Incertidumbre [→](#section2)\n",
    "- 2.1. Error Aleatorio\n",
    "- 2.2. Barras de Error\n",
    "- 2.3. Librería Measurements.jl\n",
    "    - 2.3.1. Barras de Error\n",
    "    - 2.3.2. Propagación de Error\n",
    "___"
   ]
  },
  {
   "cell_type": "markdown",
   "metadata": {},
   "source": [
    "**¡Importante!** Note que la carpeta **week2** contiene dos archivos: `Project.toml` y `Manifest.toml`. Estos configuran el <font color=\"#FF5733\">*ambiente de trabajo*</font> y facilitan el manejo de <font color=\"#FF5733\">librerías</font>.\n",
    "\n",
    "Para inicializar el ambiente desde Julia REPL, dentro de la carpeta **week2**, ejecute lo siguiente:\n",
    "\n",
    "```shell\n",
    "$ (v1.7) pkg > activate .\n",
    "$ (week2) pkg> instantiate\n",
    "```\n",
    "\n",
    "**Nota:** Para acceder al Pkg REPL, escriba el corchete derecho `]` en el Julia REPL. Note que el REPL cambie de color de verde (Julia REPL) a azul (Pkg REPL). Una vez ejecutado el código `activate .`, el prefijo entre paréntesis indica el ambiente activo: cambia de `v1.7` a `week2`.\n",
    "\n",
    "O, desde Jupyter Notebook, ejecute:\n",
    "\n",
    "```julia\n",
    "$ using Pkg\n",
    "$ Pkg.activate()\n",
    "$ Pkg.instantiate()\n",
    "```\n",
    "\n",
    "**Nota:** La activación del ambiente <font color=\"#FF5733\">*precompila*</font> las librerías por lo que puede tardar un momento su ejecución completa.\n",
    "\n",
    "<div class=\"alert alert-block alert-info\">\n",
    "    \n",
    "<i class=\"fa fa-info-circle\" aria-hidden=\"true\"></i>\n",
    "Puede obtener más información en la documentación oficial de la librería [`Pkg.jl`](https://pkgdocs.julialang.org/v1/environments/) y en el documento dando clic [aquí](https://towardsdatascience.com/how-to-setup-project-environments-in-julia-ec8ae73afe9c).\n",
    "</div>"
   ]
  },
  {
   "cell_type": "code",
   "execution_count": 1,
   "metadata": {},
   "outputs": [
    {
     "name": "stderr",
     "output_type": "stream",
     "text": [
      "\u001b[32m\u001b[1m  Activating\u001b[22m\u001b[39m project at `~/Documents/GitHub/ua-imec2001-hc-202210/content/week2`\n"
     ]
    }
   ],
   "source": [
    "using Pkg\n",
    "Pkg.activate(pwd())\n",
    "Pkg.instantiate()"
   ]
  },
  {
   "cell_type": "code",
   "execution_count": 2,
   "metadata": {},
   "outputs": [
    {
     "name": "stdout",
     "output_type": "stream",
     "text": [
      "\u001b[32m\u001b[1m      Status\u001b[22m\u001b[39m `~/Documents/GitHub/ua-imec2001-hc-202210/content/week2/Project.toml`\n",
      " \u001b[90m [336ed68f] \u001b[39mCSV v0.10.4\n",
      " \u001b[90m [a93c6f00] \u001b[39mDataFrames v1.3.2\n",
      " \u001b[90m [31c24e10] \u001b[39mDistributions v0.24.18\n",
      " \u001b[90m [38e38edf] \u001b[39mGLM v1.4.2\n",
      " \u001b[90m [09f84164] \u001b[39mHypothesisTests v0.10.8\n",
      " \u001b[90m [eff96d63] \u001b[39mMeasurements v2.7.1\n",
      " \u001b[90m [91a5bcdd] \u001b[39mPlots v1.27.4\n",
      " \u001b[90m [2913bbd2] \u001b[39mStatsBase v0.33.16\n",
      " \u001b[90m [fdbf4ff8] \u001b[39mXLSX v0.7.9\n",
      " \u001b[90m [37e2e46d] \u001b[39mLinearAlgebra\n",
      " \u001b[90m [10745b16] \u001b[39mStatistics\n"
     ]
    }
   ],
   "source": [
    "Pkg.status()"
   ]
  },
  {
   "cell_type": "markdown",
   "metadata": {},
   "source": [
    "<a id=\"section1\"></a>\n",
    "# Sección 1: Ajuste de Datos (Regresión OLS)"
   ]
  },
  {
   "cell_type": "markdown",
   "metadata": {},
   "source": [
    "## 1.1. Cargar Librerías"
   ]
  },
  {
   "cell_type": "code",
   "execution_count": 3,
   "metadata": {},
   "outputs": [],
   "source": [
    "import CSV\n",
    "import XLSX\n",
    "import Plots\n",
    "import Statistics\n",
    "import DataFrames\n",
    "import LinearAlgebra"
   ]
  },
  {
   "cell_type": "markdown",
   "metadata": {},
   "source": [
    "## 1.2. Mínimos Cuadrados Ordinarios (OLS)\n",
    "\n",
    "Un ajuste (o <font color=\"#FF5733\">regresión</font>) es una función  $f(x)$ que se aproxima a unos datos sin que necesariamente pase sobre ellos (Vidal, 2017). Ahora bien, un ajuste lineal (o <font color=\"#FF5733\">regresión lineal</font>) busca la determinación de la ecuación de la **recta** que mejor ajusta a una distribución bidimensional (i.e., $x$ y $y$) de datos (Franco, 2016).\n",
    "\n",
    "$$\n",
    "Y = aX + b\n",
    "$$\n",
    "\n",
    "Siendo $Y$ la variable dependiente, $X$ la variable independiente, $a$ la pendiente y $b$ el intercepto con el eje vertical (i.e., eje $Y$).\n",
    "\n",
    "El método de **mínimos cuadrados ordinarios** (OLS, por sus siglas en inglés) es un ejercicio de optimización del error cuadrático $e^2$. Es decir, se minimiza la suma de cuadrados de las diferencias (llamados residuos) entre los puntos generados por la función y los correspondientes valores en los datos medidos (Wikipedia, 2021).\n",
    "\n",
    "$$\n",
    "\\sum_{i=1}^{n} e_i^2 = \\sum_{i=1}^{n} \\left( y_i - \\hat{y}_i \\right )^2\n",
    "$$\n",
    "\n",
    "<img src='./img/OLS.png' width='350'/>\n",
    "Figura tomada de [Cuemath - Least Squares](https://www.cuemath.com/data/least-squares/)."
   ]
  },
  {
   "cell_type": "code",
   "execution_count": 4,
   "metadata": {},
   "outputs": [
    {
     "name": "stdout",
     "output_type": "stream",
     "text": [
      "El DataFrame tiene 39 filas y 10 columnas.\n"
     ]
    },
    {
     "data": {
      "text/html": [
       "<div class=\"data-frame\"><p>5 rows × 10 columns (omitted printing of 4 columns)</p><table class=\"data-frame\"><thead><tr><th></th><th>Index</th><th>Engine</th><th>Mass (Kg)</th><th>Number of Cylinders</th><th>Strokes per Cycle</th><th>Displacement (cm3)</th></tr><tr><th></th><th title=\"Any\">Any</th><th title=\"Any\">Any</th><th title=\"Any\">Any</th><th title=\"Any\">Any</th><th title=\"Any\">Any</th><th title=\"Any\">Any</th></tr></thead><tbody><tr><th>1</th><td>1</td><td>Webra Speedy</td><td>0.135</td><td>1.0</td><td>2.0</td><td>1.8</td></tr><tr><th>2</th><td>2</td><td>Motori Cipolla</td><td>0.15</td><td>1.0</td><td>2.0</td><td>2.5</td></tr><tr><th>3</th><td>3</td><td>Webra Speed 20</td><td>0.25</td><td>1.0</td><td>2.0</td><td>3.4</td></tr><tr><th>4</th><td>4</td><td>Webra 40</td><td>0.27</td><td>1.0</td><td>2.0</td><td>6.5</td></tr><tr><th>5</th><td>5</td><td>Webra 61 Blackhead</td><td>0.43</td><td>1.0</td><td>2.0</td><td>10.0</td></tr></tbody></table></div>"
      ],
      "text/latex": [
       "\\begin{tabular}{r|ccccccc}\n",
       "\t& Index & Engine & Mass (Kg) & Number of Cylinders & Strokes per Cycle & Displacement (cm3) & \\\\\n",
       "\t\\hline\n",
       "\t& Any & Any & Any & Any & Any & Any & \\\\\n",
       "\t\\hline\n",
       "\t1 & 1 & Webra Speedy & 0.135 & 1.0 & 2.0 & 1.8 & $\\dots$ \\\\\n",
       "\t2 & 2 & Motori Cipolla & 0.15 & 1.0 & 2.0 & 2.5 & $\\dots$ \\\\\n",
       "\t3 & 3 & Webra Speed 20 & 0.25 & 1.0 & 2.0 & 3.4 & $\\dots$ \\\\\n",
       "\t4 & 4 & Webra 40 & 0.27 & 1.0 & 2.0 & 6.5 & $\\dots$ \\\\\n",
       "\t5 & 5 & Webra 61 Blackhead & 0.43 & 1.0 & 2.0 & 10.0 & $\\dots$ \\\\\n",
       "\\end{tabular}\n"
      ],
      "text/plain": [
       "\u001b[1m5×10 DataFrame\u001b[0m\n",
       "\u001b[1m Row \u001b[0m│\u001b[1m Index \u001b[0m\u001b[1m Engine             \u001b[0m\u001b[1m Mass (Kg) \u001b[0m\u001b[1m Number of Cylinders \u001b[0m\u001b[1m Strokes per \u001b[0m ⋯\n",
       "\u001b[1m     \u001b[0m│\u001b[90m Any   \u001b[0m\u001b[90m Any                \u001b[0m\u001b[90m Any       \u001b[0m\u001b[90m Any                 \u001b[0m\u001b[90m Any         \u001b[0m ⋯\n",
       "─────┼──────────────────────────────────────────────────────────────────────────\n",
       "   1 │ 1      Webra Speedy        0.135      1.0                  2.0          ⋯\n",
       "   2 │ 2      Motori Cipolla      0.15       1.0                  2.0\n",
       "   3 │ 3      Webra Speed 20      0.25       1.0                  2.0\n",
       "   4 │ 4      Webra 40            0.27       1.0                  2.0\n",
       "   5 │ 5      Webra 61 Blackhead  0.43       1.0                  2.0          ⋯\n",
       "\u001b[36m                                                               6 columns omitted\u001b[0m"
      ]
     },
     "execution_count": 4,
     "metadata": {},
     "output_type": "execute_result"
    }
   ],
   "source": [
    "df_orig = DataFrames.DataFrame(XLSX.readtable(\"./data/engines.xlsx\", \"Data\", header=true)...) # ./ es pwd()\n",
    "\n",
    "df = copy(df_orig)\n",
    "\n",
    "println(\"El DataFrame tiene $(size(df)[1]) filas y $(size(df)[2]) columnas.\")\n",
    "\n",
    "first(df, 5)"
   ]
  },
  {
   "cell_type": "code",
   "execution_count": 5,
   "metadata": {},
   "outputs": [
    {
     "data": {
      "text/html": [
       "<div class=\"data-frame\"><p>10 rows × 7 columns (omitted printing of 2 columns)</p><table class=\"data-frame\"><thead><tr><th></th><th>variable</th><th>mean</th><th>min</th><th>median</th><th>max</th></tr><tr><th></th><th title=\"Symbol\">Symbol</th><th title=\"Union{Nothing, Float64}\">Union…</th><th title=\"Any\">Any</th><th title=\"Union{Nothing, Float64}\">Union…</th><th title=\"Any\">Any</th></tr></thead><tbody><tr><th>1</th><td>Index</td><td>20.0</td><td>1</td><td>20.0</td><td>39</td></tr><tr><th>2</th><td>Engine</td><td></td><td>Allison V-1710</td><td></td><td>Wright GR-2600</td></tr><tr><th>3</th><td>Mass (Kg)</td><td>6511.12</td><td>0.135</td><td>135.0</td><td>102300.0</td></tr><tr><th>4</th><td>Number of Cylinders</td><td>7.79487</td><td>1.0</td><td>6.0</td><td>24.0</td></tr><tr><th>5</th><td>Strokes per Cycle</td><td>3.58974</td><td>2.0</td><td>4.0</td><td>4.0</td></tr><tr><th>6</th><td>Displacement (cm3)</td><td>7.3883e5</td><td>1.8</td><td>4700.0</td><td>1.19e7</td></tr><tr><th>7</th><td>Bore (mm)</td><td>166.844</td><td>13.5</td><td>102.0</td><td>900.0</td></tr><tr><th>8</th><td>Stroke (mm)</td><td>213.013</td><td>12.5</td><td>92.0</td><td>1800.0</td></tr><tr><th>9</th><td>Maximum Brake Horsepower (BHP)</td><td>2605.67</td><td>0.45</td><td>140.0</td><td>27800.0</td></tr><tr><th>10</th><td>Revolutions per Minute (RPM)</td><td>6235.1</td><td>110.0</td><td>2800.0</td><td>26000.0</td></tr></tbody></table></div>"
      ],
      "text/latex": [
       "\\begin{tabular}{r|cccccc}\n",
       "\t& variable & mean & min & median & max & \\\\\n",
       "\t\\hline\n",
       "\t& Symbol & Union… & Any & Union… & Any & \\\\\n",
       "\t\\hline\n",
       "\t1 & Index & 20.0 & 1 & 20.0 & 39 & $\\dots$ \\\\\n",
       "\t2 & Engine &  & Allison V-1710 &  & Wright GR-2600 & $\\dots$ \\\\\n",
       "\t3 & Mass (Kg) & 6511.12 & 0.135 & 135.0 & 102300.0 & $\\dots$ \\\\\n",
       "\t4 & Number of Cylinders & 7.79487 & 1.0 & 6.0 & 24.0 & $\\dots$ \\\\\n",
       "\t5 & Strokes per Cycle & 3.58974 & 2.0 & 4.0 & 4.0 & $\\dots$ \\\\\n",
       "\t6 & Displacement (cm3) & 7.3883e5 & 1.8 & 4700.0 & 1.19e7 & $\\dots$ \\\\\n",
       "\t7 & Bore (mm) & 166.844 & 13.5 & 102.0 & 900.0 & $\\dots$ \\\\\n",
       "\t8 & Stroke (mm) & 213.013 & 12.5 & 92.0 & 1800.0 & $\\dots$ \\\\\n",
       "\t9 & Maximum Brake Horsepower (BHP) & 2605.67 & 0.45 & 140.0 & 27800.0 & $\\dots$ \\\\\n",
       "\t10 & Revolutions per Minute (RPM) & 6235.1 & 110.0 & 2800.0 & 26000.0 & $\\dots$ \\\\\n",
       "\\end{tabular}\n"
      ],
      "text/plain": [
       "\u001b[1m10×7 DataFrame\u001b[0m\n",
       "\u001b[1m Row \u001b[0m│\u001b[1m variable                       \u001b[0m\u001b[1m mean     \u001b[0m\u001b[1m min            \u001b[0m\u001b[1m median \u001b[0m\u001b[1m max  \u001b[0m ⋯\n",
       "\u001b[1m     \u001b[0m│\u001b[90m Symbol                         \u001b[0m\u001b[90m Union…   \u001b[0m\u001b[90m Any            \u001b[0m\u001b[90m Union… \u001b[0m\u001b[90m Any  \u001b[0m ⋯\n",
       "─────┼──────────────────────────────────────────────────────────────────────────\n",
       "   1 │ Index                           20.0      1               20.0    39    ⋯\n",
       "   2 │ Engine                         \u001b[90m          \u001b[0m Allison V-1710 \u001b[90m        \u001b[0m Wrigh\n",
       "   3 │ Mass (Kg)                       6511.12   0.135           135.0   10230\n",
       "   4 │ Number of Cylinders             7.79487   1.0             6.0     24.0\n",
       "   5 │ Strokes per Cycle               3.58974   2.0             4.0     4.0   ⋯\n",
       "   6 │ Displacement (cm3)              7.3883e5  1.8             4700.0  1.19e\n",
       "   7 │ Bore (mm)                       166.844   13.5            102.0   900.0\n",
       "   8 │ Stroke (mm)                     213.013   12.5            92.0    1800.\n",
       "   9 │ Maximum Brake Horsepower (BHP)  2605.67   0.45            140.0   27800 ⋯\n",
       "  10 │ Revolutions per Minute (RPM)    6235.1    110.0           2800.0  26000\n",
       "\u001b[36m                                                               3 columns omitted\u001b[0m"
      ]
     },
     "execution_count": 5,
     "metadata": {},
     "output_type": "execute_result"
    }
   ],
   "source": [
    "# Algunas Métricas Estadísticas\n",
    "DataFrames.describe(df)"
   ]
  },
  {
   "cell_type": "markdown",
   "metadata": {},
   "source": [
    "### 1.2.1. Gráfica MBHP vs Masa"
   ]
  },
  {
   "cell_type": "code",
   "execution_count": null,
   "metadata": {},
   "outputs": [],
   "source": [
    "Plots.plot(df.\"Mass (Kg)\",\n",
    "           df.\"Maximum Brake Horsepower (BHP)\",\n",
    "           seriestype = :scatter, \n",
    "           title=\"Relación MBHP y Masa\", \n",
    "           xlabel=\"Masa (kg)\", \n",
    "           ylabel=\"MBHP\",\n",
    "           xrotation=0,\n",
    "           legend=false,\n",
    "           m=:circle,\n",
    "           ms=4,\n",
    "           mc=:dodgerblue,\n",
    "           alpha=0.5,\n",
    "           dpi=500,\n",
    "           frame=:origin)"
   ]
  },
  {
   "cell_type": "markdown",
   "metadata": {},
   "source": [
    "Al observar la gráfica anterior, se evidencia poca linealidad entre los datos. Por ende, para conseguir una buena interpretación, se procede a obtener la respectiva relación logarítimica, es decir $log \\: \\text{MBHP}$ vs. $log \\: \\text{Masa}$.\n",
    "\n",
    "En este caso (ambos ejes con valores logarítmicos), tenemos que la pendiente $a$ y el intercepto $b$ es:\n",
    "\n",
    "$$\n",
    "Y = aX + log(b) \n",
    "$$"
   ]
  },
  {
   "cell_type": "code",
   "execution_count": null,
   "metadata": {},
   "outputs": [],
   "source": [
    "eje_x = log.(df.\"Mass (Kg)\")\n",
    "eje_y = log.(df.\"Maximum Brake Horsepower (BHP)\")\n",
    "\n",
    "Plots.plot(eje_x,\n",
    "           eje_y,\n",
    "           seriestype = :scatter, \n",
    "           title=\"Relación log MBHP y log Masa\", \n",
    "           xlabel=\"Masa (kg)\", \n",
    "           ylabel=\"MBHP\",\n",
    "           label=\"Medidas\",\n",
    "           legend=:outertopright,\n",
    "           m=:circle,\n",
    "           ms=4,\n",
    "           mc=:dodgerblue,\n",
    "           alpha=0.5,\n",
    "           dpi=500,\n",
    "           frame=:origin)"
   ]
  },
  {
   "cell_type": "markdown",
   "metadata": {},
   "source": [
    "¡Perfecto! Con esta transformación, ahora podemos ver que efectivamente hay una relación lineal entre las variables $\\texttt{Masa}$ y $\\texttt{MBHP}$."
   ]
  },
  {
   "cell_type": "markdown",
   "metadata": {},
   "source": [
    "### 1.2.2. Ajuste Lineal\n",
    "\n",
    "Una librería que nos permite realizar un ajuste lineal con el método OLS es `GLM` (*Generalized Linear Models*).\n",
    "\n",
    "La librería `GLM` tiene una función llamada `lm` para los ajustes lineales. Esta tiene los siguientes parámetros de entrada principales:\n",
    "\n",
    "- `formula`: Usa nombre de columnas del DataFrame (e.g., `names(df) = [:Y,:X1,:X2]`) y una fórmula válida con la sintaxis (e.g., `@formula(Y ~ X1 + X2)`).\n",
    "- `data`: El DataFrame que contiene los valores.\n",
    "\n",
    "Más info [aquí](https://juliastats.org/GLM.jl/v0.11/).\n",
    "\n",
    "Pero... ¿qué es un modelo lineal (o ecuación lineal)?\n",
    "\n",
    "\n",
    "<div class=\"alert alert-block alert-success\">\n",
    "> Es una ecuación de primer grado (es decir, involucra una o más variables a la primera potencia) y no contiene productos entre las variables, es decir, la ecuación solo involucra sumas y restas de una variable a la primera potencia.\n",
    "</div>"
   ]
  },
  {
   "cell_type": "code",
   "execution_count": null,
   "metadata": {},
   "outputs": [],
   "source": [
    "df_ols = DataFrames.DataFrame(X = log.(df.\"Mass (Kg)\"),\n",
    "                              Y = log.(df.\"Maximum Brake Horsepower (BHP)\"))\n",
    "\n",
    "DataFrames.first(df_ols, 5)"
   ]
  },
  {
   "cell_type": "code",
   "execution_count": null,
   "metadata": {},
   "outputs": [],
   "source": [
    "using GLM\n",
    "\n",
    "ols = lm(@formula(Y ~ X), df_ols)\n",
    "\n",
    "ols"
   ]
  },
  {
   "cell_type": "markdown",
   "metadata": {},
   "source": [
    "La columna $\\texttt{Coef.}$ nos da la información que necesitamos:\n",
    "- **Pendiente $a$**: 0.858983\n",
    "- **Intercepto $b$**: 0.910096\n",
    "\n",
    "Para visualizar la información, hacemos uso de la función `predict()` que me evalúa el ajuste lineal hecho."
   ]
  },
  {
   "cell_type": "markdown",
   "metadata": {},
   "source": [
    "### 1.2.3. Coeficiente de Correlación\n",
    "\n",
    "El coeficiente de correlación $R^2$ de determina a partir de la función `r2` de la librería `StatsBase`."
   ]
  },
  {
   "cell_type": "code",
   "execution_count": null,
   "metadata": {},
   "outputs": [],
   "source": [
    "import StatsBase\n",
    "\n",
    "R² = round(StatsBase.r2(ols), digits=2)\n",
    "\n",
    "R² "
   ]
  },
  {
   "cell_type": "code",
   "execution_count": null,
   "metadata": {},
   "outputs": [],
   "source": [
    "using GLM\n",
    "\n",
    "a = round(coef(ols)[1], digits=2) # ¿Qué obtenemos con 'coef()'?\n",
    "b = round(coef(ols)[2], digits=2) # ¿Qué obtenemos con 'coef()'?\n",
    "\n",
    "Plots.plot!(df_ols.\"X\", predict(ols), color=:red, alpha=0.5, label=\"Y = $(a)X + $(b)\\nR² = $(R²)\")"
   ]
  },
  {
   "cell_type": "markdown",
   "metadata": {},
   "source": [
    "### 1.2.4. Caso Práctico\n",
    "\n",
    "Queremos obtener el ajuste lineal al correlacionar las variables `Mass (Kg)` y `Displacement (cm3)`. Esta relación también es $log-log$.\n",
    "\n",
    "El paso a paso que debemos hacer es:\n",
    "1. Transformar los datos al valor logaritmo.\n",
    "2. Crear el DataFrame únicamente con las columnas de interés.\n",
    "3. Usar la librería `GLM` con la sintaxis adecuada (i.e., `GLM.lm(@formula(Y ~ X), df)`).\n",
    "4. Estimar el valor de $R^2$.\n",
    "4. Crear la gráfica base.\n",
    "5. Agregar la línea de tendencia con `predict(ols)`."
   ]
  },
  {
   "cell_type": "code",
   "execution_count": null,
   "metadata": {},
   "outputs": [],
   "source": [
    "df_ols = DataFrames.DataFrame(X = log.(df.\"Mass (Kg)\"),\n",
    "                              Y = log.(df.\"Displacement (cm3)\"))\n",
    "\n",
    "DataFrames.first(df_ols, 5)"
   ]
  },
  {
   "cell_type": "code",
   "execution_count": null,
   "metadata": {},
   "outputs": [],
   "source": [
    "using GLM\n",
    "\n",
    "ols = lm(@formula(Y ~ X), df_ols)\n",
    "\n",
    "ols"
   ]
  },
  {
   "cell_type": "code",
   "execution_count": null,
   "metadata": {},
   "outputs": [],
   "source": [
    "import StatsBase\n",
    "\n",
    "R² = round(StatsBase.r2(ols), digits=2)\n",
    "\n",
    "R²"
   ]
  },
  {
   "cell_type": "code",
   "execution_count": null,
   "metadata": {},
   "outputs": [],
   "source": [
    "eje_x = df_ols.\"X\"\n",
    "eje_y = df_ols.\"Y\"\n",
    "\n",
    "Plots.plot(eje_x,\n",
    "           eje_y,\n",
    "           seriestype = :scatter, \n",
    "           title=\"Relación log Desplazamiento y log Masa\", \n",
    "           xlabel=\"Masa (kg)\", \n",
    "           ylabel=\"Desplazamiento (cm3)\",\n",
    "           label=\"Medidas\",\n",
    "           legend=:outertopright,\n",
    "           m=:circle,\n",
    "           ms=4,\n",
    "           mc=:dodgerblue,\n",
    "           alpha=0.5,\n",
    "           dpi=500,\n",
    "           frame=:origin)"
   ]
  },
  {
   "cell_type": "code",
   "execution_count": null,
   "metadata": {},
   "outputs": [],
   "source": [
    "using GLM\n",
    "\n",
    "a = round(coef(ols)[1], digits=2) # ¿Qué obtenemos con 'coef()'?\n",
    "b = round(coef(ols)[2], digits=2) # ¿Qué obtenemos con 'coef()'?\n",
    "\n",
    "Plots.plot!(df_ols.\"X\", predict(ols), color=:green, alpha=0.5, label=\"Y = $(a)X + $(b)\\nR² = $(R²)\")"
   ]
  },
  {
   "cell_type": "markdown",
   "metadata": {},
   "source": [
    "## 1.3. Histogramas\n",
    "\n",
    "Los histogramas permiten visualizar la distribución de un conjunto de datos a partir de la frecuencia de los valores representados en un rango específico. Para este caso, haremos uso de la función `fit` de la librería `StatsBase` para crear nuestro gráfico."
   ]
  },
  {
   "cell_type": "code",
   "execution_count": null,
   "metadata": {},
   "outputs": [],
   "source": [
    "# Estimamos el número de bins con la Regla de Sturge\n",
    "K = Int(round(1 + 3.322 * log(length(df_ols.\"Y\"))))\n",
    "\n",
    "# Histograma\n",
    "using StatsBase\n",
    "\n",
    "h = fit(Histogram, df_ols.\"Y\", nbins=K)"
   ]
  },
  {
   "cell_type": "markdown",
   "metadata": {},
   "source": [
    "Para graficar esta información, hacemos uso de la función `bar` de la librería `Plots`."
   ]
  },
  {
   "cell_type": "code",
   "execution_count": null,
   "metadata": {},
   "outputs": [],
   "source": [
    "hist = Plots.bar(h.edges, h.weights,\n",
    "                 xlabel = \"Mediciones (Y)\",\n",
    "                 ylabel = \"Frecuencia\",\n",
    "                 title = \"Histograma\",\n",
    "                 legend = false,\n",
    "                 color = :dodgerblue,\n",
    "                 alpha = 0.5)"
   ]
  },
  {
   "cell_type": "markdown",
   "metadata": {},
   "source": [
    "Podemos agregar líneas de medidas de tendencia central como promedio y desviaciones estándar."
   ]
  },
  {
   "cell_type": "code",
   "execution_count": null,
   "metadata": {},
   "outputs": [],
   "source": [
    "avg = Statistics.mean(df_ols.\"Y\")\n",
    "desv = Statistics.std(df_ols.\"Y\")\n",
    "\n",
    "Plots.vline!([avg - desv, avg, avg + desv],\n",
    "             linestyle=:dash,\n",
    "             color=:green)"
   ]
  },
  {
   "cell_type": "markdown",
   "metadata": {},
   "source": [
    "<a id=\"section2\"></a>\n",
    "# Sección 2: Incertidumbre"
   ]
  },
  {
   "cell_type": "markdown",
   "metadata": {},
   "source": [
    "## 2.1. Error Aleatorio\n",
    "\n",
    "Típicamente nos encontramos lo siguiente en una guía de laboratorio:\n",
    "\n",
    "> **Estimación de Incertidumbre**: Las variables observadas se verán afectadas por la incertidumbre de medición, y aquellas\n",
    "obtenidas a partir de ecuaciones matemáticas se verán afectadas por el error propagado.\n",
    "Para estimar las incertidumbres de medición, es importante distinguir entre las fuentes\n",
    "sistemáticas y aleatorias de error a medida que se realiza el experimento. Para las fuentes\n",
    "de error aleatorias, **se debe estimar un intervalo de confianza del 95% según la distribución\n",
    "de probabilidad correspondiente (e.g., t-Student o Normal)**. Debe documentar en el informe\n",
    "cómo se estimó la incertidumbre de medición y cómo se calculó la propagación de error.\n",
    "\n",
    "¿Cómo lo podemos hacer en Julia?\n",
    "\n",
    "\n",
    "Recordemos que, para la distribución Normal (también llamada Gaussiana):\n",
    "\n",
    "$$\n",
    "z = \\frac{x - \\mu}{\\sigma_x}\n",
    "$$\n",
    "\n",
    "Donde:\n",
    "\n",
    "$$\n",
    "\\sigma_x = \\frac{\\sigma}{\\sqrt{n}}\n",
    "$$\n",
    "\n",
    "Con estos datos, obtenemos el intervalor de confianza:\n",
    "\n",
    "$$\n",
    "\\mu = x \\pm z \\sigma_x\n",
    "$$\n",
    "\n",
    "\n",
    "Este ejercicio es facilitado con las librerías `Distributions` e `HypothesisTests`."
   ]
  },
  {
   "cell_type": "code",
   "execution_count": null,
   "metadata": {},
   "outputs": [],
   "source": [
    "using Distributions, HypothesisTests\n",
    "\n",
    "μ = round(Statistics.mean(df_ols.\"X\"), digits=2)\n",
    "println(\"Promedio Masa ~ μ = $μ\\n\")\n",
    "\n",
    "println( OneSampleTTest(df_ols.\"X\") )\n",
    "\n",
    "println(\"\\nIntervalo de Confianza (95%): $(confint(OneSampleTTest(df_ols.\"X\")))\") # Intervalo de Confianza del 95%"
   ]
  },
  {
   "cell_type": "markdown",
   "metadata": {},
   "source": [
    "## 2.2. Barras de Error\n",
    "\n",
    "Conocido el error de cada dato, `Plots` nos permite agregar las barras de error de manera sencilla a partir del parámetro `yerror`."
   ]
  },
  {
   "cell_type": "code",
   "execution_count": null,
   "metadata": {},
   "outputs": [],
   "source": [
    "error = Array(randn(DataFrames.nrow(df_ols), 1))\n",
    "\n",
    "df_ols.\"error\" .= error\n",
    "\n",
    "DataFrames.first(df_ols, 5)"
   ]
  },
  {
   "cell_type": "code",
   "execution_count": null,
   "metadata": {},
   "outputs": [],
   "source": [
    "eje_x = log.(df.\"Mass (Kg)\")\n",
    "eje_y = log.(df.\"Maximum Brake Horsepower (BHP)\")\n",
    "\n",
    "Plots.plot(eje_x,\n",
    "           eje_y,\n",
    "           seriestype = :scatter, \n",
    "           title=\"Relación log MBHP y log Masa\", \n",
    "           xlabel=\"Masa (kg)\", \n",
    "           ylabel=\"MBHP\",\n",
    "           label=\"Medidas\",\n",
    "           legend=:outertopright,\n",
    "           m=:circle,\n",
    "           ms=4,\n",
    "           mc=:dodgerblue,\n",
    "           alpha=0.5,\n",
    "           dpi=500,\n",
    "           frame=:origin,\n",
    "           yerror=df_ols.\"error\")"
   ]
  },
  {
   "cell_type": "markdown",
   "metadata": {},
   "source": [
    "## 2.3. Librería `Measurements.jl`\n",
    "\n",
    "La librería `Measurements` también permite agregar barras de error con una sintaxis más clara y ¡es útil para ejercicios de <font color=\"#FF5733\">propagación de error</font> de manera sencilla!. \n",
    "\n",
    "Más info [aquí](https://juliaphysics.github.io/Measurements.jl/stable/)."
   ]
  },
  {
   "cell_type": "markdown",
   "metadata": {},
   "source": [
    "### 2.3.1. Barras de Error"
   ]
  },
  {
   "cell_type": "code",
   "execution_count": null,
   "metadata": {},
   "outputs": [],
   "source": [
    "using Measurements\n",
    "\n",
    "eje_x = df_ols.\"X\"\n",
    "eje_y = df_ols.\"Y\"\n",
    "err = df_ols.\"error\"\n",
    "\n",
    "eff_y = eje_y .± err # Note el término '.±'\n",
    "\n",
    "Plots.plot(eje_x,\n",
    "           eff_y,\n",
    "           seriestype = :scatter, \n",
    "           title=\"Relación log MBHP y log Masa\", \n",
    "           xlabel=\"Masa (kg)\", \n",
    "           ylabel=\"MBHP\",\n",
    "           label=\"Medidas\",\n",
    "           legend=:outertopright,\n",
    "           m=:circle,\n",
    "           ms=4,\n",
    "           mc=:dodgerblue,\n",
    "           alpha=0.5,\n",
    "           dpi=500,\n",
    "           frame=:origin,\n",
    "           yerror=df_ols.\"error\")"
   ]
  },
  {
   "cell_type": "markdown",
   "metadata": {},
   "source": [
    "### 2.3.2. Propagación de Error\n",
    "\n",
    "Un péndulo simple se describe a partir de la siguiente ecuación:\n",
    "\n",
    "$$\n",
    "T = 2\\pi \\sqrt{\\frac{L}{g}}\n",
    "$$\n",
    "\n",
    "Al despejar para la gravedad $g$, obtenemos:\n",
    "\n",
    "$$\n",
    "g = \\frac{4 \\pi^2 L}{T^2}\n",
    "$$\n",
    "\n",
    "Ahora, el error propagado para esta ecuación es:\n",
    "\n",
    "$$\n",
    "e = \\sqrt{ \\left( \\frac{\\partial g}{\\partial L} \\right)^2 \\cdot e_L^2 + \\left( \\frac{\\partial g}{\\partial T} \\right)^2 \\cdot e_T^2}\n",
    "$$\n",
    "\n",
    "Luego:\n",
    "\n",
    "$$\n",
    "e = \\sqrt{ \\left( \\frac{4 \\pi^2}{T^2} \\right)^2 \\cdot e_L^2 + \\left( \\frac{-8 \\pi^2 L}{T^3} \\right)^2 \\cdot e_T^2}\n",
    "$$"
   ]
  },
  {
   "cell_type": "code",
   "execution_count": null,
   "metadata": {},
   "outputs": [],
   "source": [
    "# Definimos las variables con su error\n",
    "\n",
    "L = measurement(0.936, 1e-3); # Forma 1\n",
    "T = 1.942 ± 4e-3; # Forma 2"
   ]
  },
  {
   "cell_type": "code",
   "execution_count": null,
   "metadata": {},
   "outputs": [],
   "source": [
    "# El error, de forma manual, es\n",
    "\n",
    "termino1 = ((4*pi^2 / (1.942)^2)^2) * (1e-3)^2\n",
    "termino2 =  ((-8*pi^2*(0.936) / (1.942)^3)^2) * (4e-3)^2\n",
    "\n",
    "e = √(termino1 + termino2) # √ es igual a la función 'sqrt()'"
   ]
  },
  {
   "cell_type": "code",
   "execution_count": null,
   "metadata": {},
   "outputs": [],
   "source": [
    "g = 4pi^2*L / T^2 # Notemos la propagación de error con `Measurements.jl`"
   ]
  }
 ],
 "metadata": {
  "kernelspec": {
   "display_name": "Julia 1.7.2",
   "language": "julia",
   "name": "julia-1.7"
  },
  "language_info": {
   "file_extension": ".jl",
   "mimetype": "application/julia",
   "name": "julia",
   "version": "1.7.2"
  },
  "toc": {
   "base_numbering": 1,
   "nav_menu": {},
   "number_sections": false,
   "sideBar": true,
   "skip_h1_title": true,
   "title_cell": "Table of Contents",
   "title_sidebar": "Contents",
   "toc_cell": false,
   "toc_position": {},
   "toc_section_display": true,
   "toc_window_display": false
  }
 },
 "nbformat": 4,
 "nbformat_minor": 2
}
